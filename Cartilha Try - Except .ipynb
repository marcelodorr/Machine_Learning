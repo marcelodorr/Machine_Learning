{
 "cells": [
  {
   "cell_type": "markdown",
   "id": "1267d999",
   "metadata": {},
   "source": [
    "# Lendo o arquivo:"
   ]
  },
  {
   "cell_type": "code",
   "execution_count": 11,
   "id": "c16c9187",
   "metadata": {},
   "outputs": [
    {
     "name": "stdout",
     "output_type": "stream",
     "text": [
      "Deu ruim\n"
     ]
    }
   ],
   "source": [
    "try:\n",
    "    with open('aruivo.txt', 'r') as file_object:\n",
    "        texto = file_object.read()\n",
    "        print(texto)\n",
    "    \n",
    "except:\n",
    "    print('Deu ruim')"
   ]
  },
  {
   "cell_type": "markdown",
   "id": "cbf1f5ea",
   "metadata": {},
   "source": [
    "# Tipos de erros:\n",
    "link:https://docs.python.org/3/library/exceptions.html"
   ]
  },
  {
   "cell_type": "markdown",
   "id": "d6fab610",
   "metadata": {},
   "source": [
    "### FileNotFoundError:"
   ]
  },
  {
   "cell_type": "code",
   "execution_count": 18,
   "id": "35d90efa",
   "metadata": {},
   "outputs": [
    {
     "name": "stdout",
     "output_type": "stream",
     "text": [
      "[Errno 2] No such file or directory: 'aruivo.txt'\n"
     ]
    }
   ],
   "source": [
    "try:\n",
    "    with open('aruivo.txt', 'r') as file_object:\n",
    "        texto = file_object.read()\n",
    "        print(texto)\n",
    "\n",
    "   \n",
    "except FileNotFoundError as error:\n",
    "    print(error)\n",
    "\n",
    "except:\n",
    "    print('Deu ruim')"
   ]
  },
  {
   "cell_type": "markdown",
   "id": "d4841b3e",
   "metadata": {},
   "source": [
    "### ZeroDivisionError:"
   ]
  },
  {
   "cell_type": "code",
   "execution_count": 25,
   "id": "98ae7fa6",
   "metadata": {},
   "outputs": [
    {
     "name": "stdout",
     "output_type": "stream",
     "text": [
      "division by zero\n"
     ]
    }
   ],
   "source": [
    "a = 10\n",
    "b = 0\n",
    "\n",
    "try:\n",
    "    print(a/b)\n",
    "\n",
    "except ZeroDivisionError as error:\n",
    "    print(error)\n",
    "\n"
   ]
  },
  {
   "cell_type": "markdown",
   "id": "e9135750",
   "metadata": {},
   "source": [
    "### Else e Finally:"
   ]
  },
  {
   "cell_type": "code",
   "execution_count": 32,
   "id": "0518f15c",
   "metadata": {},
   "outputs": [
    {
     "name": "stdout",
     "output_type": "stream",
     "text": [
      "division by zero\n",
      "Aqui sempre vai printar\n"
     ]
    }
   ],
   "source": [
    "a = 10\n",
    "b = 0\n",
    "\n",
    "try:\n",
    "    print(a/b)\n",
    "\n",
    "except ZeroDivisionError as error:\n",
    "    print(error)\n",
    "\n",
    "else:\n",
    "    print( ' Sem erros')\n",
    "\n",
    "finally:\n",
    "    print('Aqui sempre vai printar')\n",
    "\n",
    "    \n",
    "    "
   ]
  }
 ],
 "metadata": {
  "kernelspec": {
   "display_name": "Python 3 (ipykernel)",
   "language": "python",
   "name": "python3"
  },
  "language_info": {
   "codemirror_mode": {
    "name": "ipython",
    "version": 3
   },
   "file_extension": ".py",
   "mimetype": "text/x-python",
   "name": "python",
   "nbconvert_exporter": "python",
   "pygments_lexer": "ipython3",
   "version": "3.8.3"
  }
 },
 "nbformat": 4,
 "nbformat_minor": 5
}
